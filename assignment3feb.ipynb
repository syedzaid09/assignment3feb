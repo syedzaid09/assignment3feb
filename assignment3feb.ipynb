{
 "cells": [
  {
   "cell_type": "markdown",
   "id": "bb48d895-1b78-4d1e-9e5f-1750365e4a0c",
   "metadata": {},
   "source": [
    "Qus.1 which keyword is used to create a functio? create a function to return a list of odd numbers in the range of 1 to 25."
   ]
  },
  {
   "cell_type": "markdown",
   "id": "42c13f5a-2f22-45e1-9d8a-ddc7f8efe7c5",
   "metadata": {},
   "source": [
    "solution1: def keyword is used to create a function \n"
   ]
  },
  {
   "cell_type": "code",
   "execution_count": 26,
   "id": "2d23f8f6-11ee-4494-8867-7295b2e39bd5",
   "metadata": {},
   "outputs": [],
   "source": [
    "def check_odd():\n",
    "    print(\"odds:\",list(range(1,25,2)))\n"
   ]
  },
  {
   "cell_type": "code",
   "execution_count": 27,
   "id": "85a70cdc-6746-417d-956e-96cc71f383b1",
   "metadata": {},
   "outputs": [
    {
     "name": "stdout",
     "output_type": "stream",
     "text": [
      "odds: [1, 3, 5, 7, 9, 11, 13, 15, 17, 19, 21, 23]\n"
     ]
    }
   ],
   "source": [
    "check_odd()"
   ]
  },
  {
   "cell_type": "markdown",
   "id": "a6ae6ec0-dff8-46f6-8fdb-4d529f773664",
   "metadata": {},
   "source": [
    "why *args and **kwargs is used in some function ? create a function each for *args and **kwargs to demonstrate their use."
   ]
  },
  {
   "cell_type": "raw",
   "id": "002f2a9f-e97a-41a3-a2bb-b86935e318c1",
   "metadata": {},
   "source": [
    "#solution2\n",
    "*args and **kwargs are special keyword which allows function to take variable length argument.\n",
    "*args and **kwargs make the function flexible.\n",
    "*args passes variable number of non-keyworded arguments and on which operation of the tuple can be performed.\n",
    "**kwargs passes variable number of keyword arguments dictionary to function on which operation of a dictionary can be performed.\n"
   ]
  },
  {
   "cell_type": "code",
   "execution_count": 22,
   "id": "c058070c-8912-4480-954f-f2c24c91c7d4",
   "metadata": {},
   "outputs": [],
   "source": [
    "#*args\n",
    "def test14(*args):\n",
    "    return args "
   ]
  },
  {
   "cell_type": "code",
   "execution_count": 23,
   "id": "9fb35030-8583-406e-8ee1-fc031a2a25e6",
   "metadata": {},
   "outputs": [
    {
     "data": {
      "text/plain": [
       "()"
      ]
     },
     "execution_count": 23,
     "metadata": {},
     "output_type": "execute_result"
    }
   ],
   "source": [
    "test14() "
   ]
  },
  {
   "cell_type": "code",
   "execution_count": 24,
   "id": "70989c02-f615-406e-9de2-609800ec8fdc",
   "metadata": {},
   "outputs": [
    {
     "data": {
      "text/plain": [
       "tuple"
      ]
     },
     "execution_count": 24,
     "metadata": {},
     "output_type": "execute_result"
    }
   ],
   "source": [
    "type(test14())"
   ]
  },
  {
   "cell_type": "code",
   "execution_count": 20,
   "id": "2d019d16-7e9e-4ee6-a009-060f4c02c445",
   "metadata": {},
   "outputs": [],
   "source": [
    "#**kwargs\n",
    "def test15(**kwargs):\n",
    "    return kwargs\n",
    "    "
   ]
  },
  {
   "cell_type": "code",
   "execution_count": 21,
   "id": "0d949e7a-8692-41f6-a595-03ea0e7fd976",
   "metadata": {},
   "outputs": [
    {
     "data": {
      "text/plain": [
       "{}"
      ]
     },
     "execution_count": 21,
     "metadata": {},
     "output_type": "execute_result"
    }
   ],
   "source": [
    "test15()"
   ]
  },
  {
   "cell_type": "code",
   "execution_count": 25,
   "id": "96b8bc0d-8b24-4a6d-be11-62a40874c39b",
   "metadata": {},
   "outputs": [
    {
     "data": {
      "text/plain": [
       "dict"
      ]
     },
     "execution_count": 25,
     "metadata": {},
     "output_type": "execute_result"
    }
   ],
   "source": [
    "type(test15())"
   ]
  },
  {
   "cell_type": "markdown",
   "id": "510a3963-6627-41ca-a8ce-52ea662721a3",
   "metadata": {},
   "source": [
    "Qus3.what is an iterator in python? Name the method used to initialise the iterator object and the method \n",
    "used for iteration. Use these methods to print the first five elements of the given list [2,4,6,8,10,12,14,16,18,20]."
   ]
  },
  {
   "cell_type": "raw",
   "id": "507134cd-c0e7-465e-8f21-fa3efa9ce664",
   "metadata": {},
   "source": [
    "Iterator in Python is an object that is used to iterate over iterable objects like lists, tuples, dicts, and sets. \n",
    "the iter() method used to initialise the iterator object. the next() method used for iteration.\n"
   ]
  },
  {
   "cell_type": "code",
   "execution_count": 40,
   "id": "5f6ab7e5-4418-4dd2-a934-23ee7a757114",
   "metadata": {},
   "outputs": [],
   "source": [
    "iterator=iter([2,4,6,8,10,12,14,16,18,20])\n"
   ]
  },
  {
   "cell_type": "code",
   "execution_count": 41,
   "id": "b8128cf5-dd03-4611-9296-e7da2bb9e4f9",
   "metadata": {},
   "outputs": [
    {
     "name": "stdout",
     "output_type": "stream",
     "text": [
      "2\n",
      "4\n",
      "6\n",
      "8\n",
      "10\n"
     ]
    }
   ],
   "source": [
    "print(next(iterator))\n",
    "print(next(iterator))\n",
    "print(next(iterator))\n",
    "print(next(iterator))\n",
    "print(next(iterator))"
   ]
  },
  {
   "cell_type": "markdown",
   "id": "6dbee739-1df9-4f09-ab3e-c0560929c90c",
   "metadata": {},
   "source": [
    "Qus4.what is a generator function in python?why yield keyword is used?give an example of a generator function.\n"
   ]
  },
  {
   "cell_type": "markdown",
   "id": "d576edbf-bbc9-49c0-acdb-b33a72528e9a",
   "metadata": {},
   "source": [
    "Solution4:\n",
    "A generator-fuction is defined like a normal function,but whenever it needs to generate a value,it does so with the yield keyword rather than return.if the body of a def contains yield, the function automatically becomes a generator function.\n",
    "\n",
    "yield keyword is used to create a generator function. A type of function that is memory efficient and can be used like an iterator object."
   ]
  },
  {
   "cell_type": "markdown",
   "id": "e12466de-0020-49a6-9dcd-cae0a5f74843",
   "metadata": {},
   "source": [
    "#example of a generator function\n",
    "def test_fib(n):\n",
    "    a,b=0,1\n",
    "    for i in range(n):\n",
    "        yield a\n",
    "        a,b=b,a+b\n",
    "for i in test_fib(10):\n",
    "    print(i)"
   ]
  },
  {
   "cell_type": "markdown",
   "id": "79c90181-6347-419a-8b7f-3c071ef6abbc",
   "metadata": {},
   "source": [
    "Qus5.create a generator function for prime numbers less than 1000.use the next() method to print the first 20 prime numbers.\n"
   ]
  },
  {
   "cell_type": "code",
   "execution_count": 16,
   "id": "8b8213a6-6511-40c3-89f3-faf5aa60c8a6",
   "metadata": {},
   "outputs": [
    {
     "name": "stdout",
     "output_type": "stream",
     "text": [
      "2\n",
      "3\n",
      "5\n",
      "7\n",
      "11\n",
      "13\n",
      "17\n",
      "19\n",
      "23\n",
      "29\n",
      "31\n",
      "37\n",
      "41\n",
      "43\n",
      "47\n",
      "53\n",
      "59\n",
      "61\n",
      "67\n",
      "71\n"
     ]
    }
   ],
   "source": [
    "def prime():\n",
    "    for i in range(2,1000):\n",
    "        for j in range(2,i):\n",
    "            if i%j==0:\n",
    "                break\n",
    "        else:\n",
    "            yield i\n",
    "\n",
    "p=prime()\n",
    "for i in range(20):\n",
    "    print(next(p))\n",
    "  "
   ]
  },
  {
   "cell_type": "markdown",
   "id": "5dd183ce-54b0-44b7-877f-999cae95fd69",
   "metadata": {},
   "source": [
    "Qus6.write a python program to print the first 10 fibonacci numbers using while loop.\n"
   ]
  },
  {
   "cell_type": "code",
   "execution_count": 27,
   "id": "046ff81c-6efc-4e34-a6fa-b8a8ea53b317",
   "metadata": {},
   "outputs": [],
   "source": [
    "def test_fib1():\n",
    "    a,b=0,1\n",
    "    while True:\n",
    "        yield a\n",
    "        a,b=b,a+b"
   ]
  },
  {
   "cell_type": "code",
   "execution_count": 28,
   "id": "8f1f7597-6d71-4f5a-a227-e00327d5a64e",
   "metadata": {},
   "outputs": [],
   "source": [
    "fib = test_fib1()"
   ]
  },
  {
   "cell_type": "code",
   "execution_count": 29,
   "id": "0ed2c531-4671-412d-b8fb-cb52cbd245a8",
   "metadata": {},
   "outputs": [
    {
     "name": "stdout",
     "output_type": "stream",
     "text": [
      "0\n",
      "1\n",
      "1\n",
      "2\n",
      "3\n",
      "5\n",
      "8\n",
      "13\n",
      "21\n",
      "34\n"
     ]
    }
   ],
   "source": [
    "for i in range(10):\n",
    "    print(next(fib))"
   ]
  },
  {
   "cell_type": "markdown",
   "id": "4fb7b1c0-538b-42b0-9b9f-56d4fd7c7162",
   "metadata": {},
   "source": [
    "7. Write a List Comprehension to iterate through the given string: ‘pwskills’.\n",
    "Expected output: ['p', 'w', 's', 'k', 'i', 'l', 'l', 's'] "
   ]
  },
  {
   "cell_type": "code",
   "execution_count": 32,
   "id": "7cc216f8-42bd-46bf-8c03-bab16d78f29f",
   "metadata": {},
   "outputs": [
    {
     "name": "stdout",
     "output_type": "stream",
     "text": [
      "['p', 'w', 's', 'k', 'i', 'l', 'l', 's']\n"
     ]
    }
   ],
   "source": [
    "s=[letter for letter in \"pwskills\"]\n",
    "print(s)"
   ]
  },
  {
   "cell_type": "code",
   "execution_count": null,
   "id": "f3afbe7d-d4aa-49b1-9daf-11287642d96d",
   "metadata": {},
   "outputs": [],
   "source": []
  },
  {
   "cell_type": "markdown",
   "id": "fc998dfd-74e7-4a76-b9d6-190330cdcfdb",
   "metadata": {},
   "source": [
    "Qus8.write a python profram to check whether a given number is palindrome or not using a while loop"
   ]
  },
  {
   "cell_type": "code",
   "execution_count": 34,
   "id": "cc4fc67f-d0a8-479e-b3cc-3250701419de",
   "metadata": {},
   "outputs": [
    {
     "name": "stdin",
     "output_type": "stream",
     "text": [
      "enter a number 123321\n"
     ]
    },
    {
     "name": "stdout",
     "output_type": "stream",
     "text": [
      "yes its a palindrome\n"
     ]
    }
   ],
   "source": [
    "num=input(\"enter a number\")\n",
    "if num==num[::-1]:\n",
    "    print(\"yes its a palindrome\")\n",
    "else:\n",
    "    print(\"no,its not a palindrome\")"
   ]
  },
  {
   "cell_type": "markdown",
   "id": "165e97e7-bb6d-4a68-bb7e-f02588f7e254",
   "metadata": {},
   "source": [
    "Qus9.write a code to print odd numbers from  1 to 100 using list comprehension\n",
    "note:use a list comprehension to create a list from 1 to 100 and use another list comprehension to filter out odd numbers\n"
   ]
  },
  {
   "cell_type": "code",
   "execution_count": 36,
   "id": "3f34377b-2f23-455a-b4ce-f6bb3a9a6bac",
   "metadata": {},
   "outputs": [
    {
     "name": "stdout",
     "output_type": "stream",
     "text": [
      "[1, 3, 5, 7, 9, 11, 13, 15, 17, 19, 21, 23, 25, 27, 29, 31, 33, 35, 37, 39, 41, 43, 45, 47, 49, 51, 53, 55, 57, 59, 61, 63, 65, 67, 69, 71, 73, 75, 77, 79, 81, 83, 85, 87, 89, 91, 93, 95, 97, 99]\n"
     ]
    }
   ],
   "source": [
    "number=[x for x in range(1,100) if x%2!=0]\n",
    "print(number)"
   ]
  },
  {
   "cell_type": "code",
   "execution_count": null,
   "id": "d785d17d-d634-4197-a681-e079dc3b09ee",
   "metadata": {},
   "outputs": [],
   "source": []
  }
 ],
 "metadata": {
  "kernelspec": {
   "display_name": "Python 3 (ipykernel)",
   "language": "python",
   "name": "python3"
  },
  "language_info": {
   "codemirror_mode": {
    "name": "ipython",
    "version": 3
   },
   "file_extension": ".py",
   "mimetype": "text/x-python",
   "name": "python",
   "nbconvert_exporter": "python",
   "pygments_lexer": "ipython3",
   "version": "3.10.8"
  }
 },
 "nbformat": 4,
 "nbformat_minor": 5
}
